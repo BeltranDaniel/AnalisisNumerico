{
 "cells": [
  {
   "cell_type": "markdown",
   "metadata": {},
   "source": [
    "# Tarea\n",
    "$e^{x} + x\\pi = 0$"
   ]
  },
  {
   "cell_type": "markdown",
   "metadata": {},
   "source": [
    "## Metodo de Netwon Raphson"
   ]
  },
  {
   "cell_type": "markdown",
   "metadata": {},
   "source": [
    "$g(x) = x_{n+1} = x_n - \\frac{f(x_n)}{f(x_n)} $"
   ]
  },
  {
   "cell_type": "code",
   "execution_count": 4,
   "metadata": {},
   "outputs": [
    {
     "name": "stdout",
     "output_type": "stream",
     "text": [
      "Primera raiz:  0.553827 Error:  1.097506e-10\n",
      "\n",
      "Segunda raiz:  1.638528 Error:  1.827163e-08"
     ]
    }
   ],
   "source": [
    "f <- function (x) {\n",
    "  return (exp(x) - pi*x)\n",
    "}\n",
    "\n",
    "fprima <- function(x){\n",
    "  return (exp(x) - pi)\n",
    "} \n",
    "\n",
    "newtonR <- function(x){\n",
    "\n",
    "  E <- 1\n",
    "  error <- 1e-5\n",
    "  x1<-0 \n",
    "  \n",
    "  while(error < E){\n",
    "    \n",
    "    x1 <- x - f(x)/fprima(x)\n",
    "    E <- abs(x1-x)/abs(x1)\n",
    "    x <- x1\n",
    "    \n",
    "  }\n",
    "  E <<- E\n",
    "  \n",
    "  return(x)\n",
    "  \n",
    "}\n",
    "\n",
    "cat(\"Primera raiz: \", newtonR(1), \"Error: \", E)\n",
    "\n",
    "cat(\"\\n\\nSegunda raiz: \", newtonR(2), \"Error: \", E)"
   ]
  },
  {
   "cell_type": "code",
   "execution_count": 33,
   "metadata": {
    "scrolled": false
   },
   "outputs": [
    {
     "data": {
      "image/png": "[encoded data removed]",
      "text/plain": [
       "plot without title"
      ]
     },
     "metadata": {},
     "output_type": "display_data"
    }
   ],
   "source": [
    "options(repr.plot.width=5, repr.plot.height=5)\n",
    "plot(f)"
   ]
  },
  {
   "cell_type": "code",
   "execution_count": null,
   "metadata": {},
   "outputs": [],
   "source": []
  }
 ],
 "metadata": {
  "kernelspec": {
   "display_name": "R",
   "language": "R",
   "name": "ir"
  },
  "language_info": {
   "codemirror_mode": "r",
   "file_extension": ".r",
   "mimetype": "text/x-r-source",
   "name": "R",
   "pygments_lexer": "r",
   "version": "3.4.4"
  }
 },
 "nbformat": 4,
 "nbformat_minor": 2
}
