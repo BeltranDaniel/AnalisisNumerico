{
 "cells": [
  {
   "cell_type": "markdown",
   "metadata": {},
   "source": [
    "# Tarea\n",
    "$e^{x} + x\\pi = 0$"
   ]
  },
  {
   "cell_type": "markdown",
   "metadata": {},
   "source": [
    "## Metodo de Netwon Raphson"
   ]
  },
  {
   "cell_type": "markdown",
   "metadata": {},
   "source": [
    "$g(x) = x_{n+1} = x_n - \\frac{f(x_n)}{f(x_n)} $"
   ]
  },
  {
   "cell_type": "code",
   "execution_count": null,
   "metadata": {},
   "outputs": [],
   "source": [
    "f <- function (x) {\n",
    "  return (exp(x) - pi*x)\n",
    "}\n",
    "\n",
    "fprima <- function(x){\n",
    "  return (exp(x) - pi)\n",
    "} \n",
    "\n",
    "newtonR <- function(x){\n",
    "\n",
    "  E <- 1\n",
    "  error <- 1e-5\n",
    "  x1<-0 \n",
    "  \n",
    "  while(error < E){\n",
    "    \n",
    "    x1 <- x - f(x)/fprima(x)\n",
    "    E1 <- abs(x1-x)/abs(x1)\n",
    "    x <- x1\n",
    "    \n",
    "  }\n",
    "  E <<- E\n",
    "  \n",
    "  return(x)\n",
    "  \n",
    "}\n",
    "\n",
    "cat(\"Primera raiz: \", newtonR(1), \"Error: \", E)\n",
    "\n",
    "cat(\"\\n\\nSegunda raiz: \", newtonR(2), \"Error: \", E)"
   ]
  },
  {
   "cell_type": "markdown",
   "metadata": {},
   "source": [
    "## Metodo de Biseccion"
   ]
  },
  {
   "cell_type": "code",
   "execution_count": null,
   "metadata": {},
   "outputs": [],
   "source": [
    "f <- function (x) {\n",
    "  return (exp(x) - pi*x)\n",
    "}\n",
    "\n",
    "\n",
    "biseccion <- function(a,b){\n",
    "  \n",
    "  \n",
    "  E <- b-a\n",
    "  error<- 1e-4\n",
    "  x<-0\n",
    "  \n",
    "  while (error < E){\n",
    "      \n",
    "    x<- (a+b)/2\n",
    "    \n",
    "    if(f(x)*f(a) < 0 )\n",
    "      b = x\n",
    "    if(f(x)*f(b) < 0)\n",
    "      a = x\n",
    "    \n",
    "    E <- (b-a)/2\n",
    "  }\n",
    "  E <<- E\n",
    "  return(x)\n",
    "}\n",
    "\n",
    "E<-0\n",
    "\n",
    "cat(\"La primera raiz es: \", biseccion(0,1), \"\\nError: \", E)\n",
    "\n",
    "cat(\"\\n\\nLa segunda raiz es: \", biseccion(1,2), \"\\nError: \", E)"
   ]
  },
  {
   "cell_type": "markdown",
   "metadata": {},
   "source": [
    "## Metodo de Punto fijo"
   ]
  },
  {
   "cell_type": "code",
   "execution_count": null,
   "metadata": {},
   "outputs": [],
   "source": [
    "f <- function (x) {\n",
    "  return (exp(x) - pi*x)\n",
    "}\n",
    "\n",
    "g <- function (x) {\n",
    "  return (exp(x)/pi)\n",
    "}\n",
    "\n",
    "puntofijo <- function(a,b){\n",
    "  \n",
    "  error<-1e-5\n",
    "  x<- a\n",
    "  E<-b-a\n",
    "  \n",
    "  while(error < E)\n",
    "  {\n",
    "    x1 <- g(x)\n",
    "    \n",
    "    if(x != x1){\n",
    "      x <- x + pasos\n",
    "    }\n",
    "    \n",
    "    E <- abs(x1 -x)/abs(x1)\n",
    "    \n",
    "  }\n",
    "  \n",
    "  E <<- E\n",
    "  \n",
    "  return (x)\n",
    "}\n",
    "\n",
    "pasos<-2/100000\n",
    "\n",
    "E<-0\n",
    "cat(\"Primera raiz: \", puntofijo(0,1), \"\\nError: \", E)\n",
    "\n",
    "cat(\"\\n\\nSegunda raiz: \", puntofijo(1,2), \"\\nError: \", E)"
   ]
  },
  {
   "cell_type": "markdown",
   "metadata": {},
   "source": [
    "## Grafica"
   ]
  },
  {
   "cell_type": "code",
   "execution_count": null,
   "metadata": {
    "scrolled": false
   },
   "outputs": [],
   "source": [
    "options(repr.plot.width=5, repr.plot.height=5)\n",
    "plot(f)"
   ]
  },
  {
   "cell_type": "markdown",
   "metadata": {},
   "source": [
    "## Comparacion"
   ]
  },
  {
   "cell_type": "code",
   "execution_count": null,
   "metadata": {},
   "outputs": [],
   "source": [
    "amv<-read.table(header=TRUE,row.names=1, text=c(\"\n",
    "Biseccion Punto-fijo Newton-Raphson\n",
    "Raiz_1 0 0 0\",\n",
    "\"Error_1 0 0 0\",\n",
    "\"Raiz_2 0 0 0\",\n",
    "\"Error_2 0 0 0\"))\n",
    "amv"
   ]
  }
 ],
 "metadata": {
  "kernelspec": {
   "display_name": "R",
   "language": "R",
   "name": "ir"
  },
  "language_info": {
   "codemirror_mode": "r",
   "file_extension": ".r",
   "mimetype": "text/x-r-source",
   "name": "R",
   "pygments_lexer": "r",
   "version": "3.5.1"
  }
 },
 "nbformat": 4,
 "nbformat_minor": 2
}
