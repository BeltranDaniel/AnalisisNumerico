{
 "cells": [
  {
   "cell_type": "code",
   "execution_count": 1,
   "metadata": {},
   "outputs": [
    {
     "name": "stdout",
     "output_type": "stream",
     "text": [
      "Primera raiz:  0.553827 \n",
      "Error:  1.097506e-10\n",
      "Segunda raiz:  1.638528 \n",
      "Error:  1.827163e-08"
     ]
    }
   ],
   "source": [
    "f <- function (x) {\n",
    "  return (exp(x) - pi*x)\n",
    "}\n",
    "\n",
    "fprima <- function(x){\n",
    "  return (exp(x) - pi)\n",
    "} \n",
    "\n",
    "newtonR <- function(x){\n",
    "\n",
    "  E <- 1\n",
    "  error <- 1e-5\n",
    "  x1<-0 \n",
    "  \n",
    "  while(error < E){\n",
    "    \n",
    "    x1 <- x - f(x)/fprima(x)\n",
    "    E <- abs(x1-x)/abs(x1)\n",
    "    x <- x1\n",
    "    \n",
    "  }\n",
    "  E <<- E\n",
    "  \n",
    "  return(x)\n",
    "  \n",
    "}\n",
    "\n",
    "cat(\"Primera raiz: \", newtonR(1), \"\\nError: \", E)\n",
    "\n",
    "cat(\"\\nSegunda raiz: \", newtonR(2), \"\\nError: \", E)"
   ]
  }
 ],
 "metadata": {
  "kernelspec": {
   "display_name": "R",
   "language": "R",
   "name": "ir"
  },
  "language_info": {
   "codemirror_mode": "r",
   "file_extension": ".r",
   "mimetype": "text/x-r-source",
   "name": "R",
   "pygments_lexer": "r",
   "version": "3.4.4"
  }
 },
 "nbformat": 4,
 "nbformat_minor": 2
}
