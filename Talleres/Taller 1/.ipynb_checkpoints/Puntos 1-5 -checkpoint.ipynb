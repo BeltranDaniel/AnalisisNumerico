{
 "cells": [
  {
   "cell_type": "markdown",
   "metadata": {},
   "source": [
    "## Punto 1\n",
    "\n",
    "Se emplea el algoritmo de Horner para resolver el ejercicio."
   ]
  },
  {
   "cell_type": "code",
   "execution_count": 1,
   "metadata": {},
   "outputs": [],
   "source": [
    "horner <- function(coef, x){\n",
    "  \n",
    "  resultado <- coef[1]\n",
    "  iteraciones <-0\n",
    "  \n",
    "  for(a in coef[2:length(coef)]){\n",
    "    \n",
    "      resultado <- x*resultado + a\n",
    "      iteraciones <- iteraciones + 2\n",
    "      \n",
    "  }\n",
    "  \n",
    "  return(cat(\"El resultado es: \", resultado, \"\\nEl numero minimo de operaciones es: \", iteraciones,\"\\nSon \",iteraciones/2,\" multiplicaciones y \",iteraciones/2, \" sumas\"))\n",
    "  \n",
    "}"
   ]
  },
  {
   "cell_type": "markdown",
   "metadata": {},
   "source": [
    "### 1.a Hallar P(x) en el valor indicado y el número mínimo de operaciones para realizarlo\n",
    "\n",
    "$$ P(x) = 2x^4 -3x^2+3x-4,x_0=-2 $$"
   ]
  },
  {
   "cell_type": "code",
   "execution_count": 2,
   "metadata": {},
   "outputs": [
    {
     "name": "stdout",
     "output_type": "stream",
     "text": [
      "El resultado es:  10 \n",
      "El numero minimo de operaciones es:  8 \n",
      "Son  4  multiplicaciones y  4  sumas"
     ]
    }
   ],
   "source": [
    "x0 <- -2\n",
    "coef <- c(2,0,-3,3,-4)\n",
    "\n",
    "horner(coef,x0)"
   ]
  },
  {
   "cell_type": "markdown",
   "metadata": {},
   "source": [
    "$$ P(x) = 7x^5 + 6x^4 - 6x^3 +3x-4,x_0=3 $$"
   ]
  },
  {
   "cell_type": "code",
   "execution_count": 3,
   "metadata": {},
   "outputs": [
    {
     "name": "stdout",
     "output_type": "stream",
     "text": [
      "El resultado es:  2030 \n",
      "El numero minimo de operaciones es:  10 \n",
      "Son  5  multiplicaciones y  5  sumas"
     ]
    }
   ],
   "source": [
    "x0 <- 3\n",
    "coef <- c(7,6,-6,0,3,-4)\n",
    "\n",
    "horner(coef,x0)"
   ]
  },
  {
   "cell_type": "markdown",
   "metadata": {},
   "source": [
    "$$ P(x) = -5x^6 + 3x^4 +2x^2 -4x,x_0=-1 $$"
   ]
  },
  {
   "cell_type": "code",
   "execution_count": 4,
   "metadata": {},
   "outputs": [
    {
     "name": "stdout",
     "output_type": "stream",
     "text": [
      "El resultado es:  4 \n",
      "El numero minimo de operaciones es:  12 \n",
      "Son  6  multiplicaciones y  6  sumas"
     ]
    }
   ],
   "source": [
    "x0 <- -1\n",
    "coef <- c(-5,0,3,0,2,-4,0)\n",
    "\n",
    "horner(coef,x0)"
   ]
  },
  {
   "cell_type": "markdown",
   "metadata": {},
   "source": [
    "### 1.b Demuestre que el numero mínimo de multiplicaciones es n siendo n el grado del polinomio\n",
    "\n",
    "Demostración por inducción: \n",
    "\n",
    "Proposicion: Dado un polinomio P(x) de grado n y un punto x0, el minimo numero de multiplicaciones para evaluar P(x0) es n. \n",
    "\n",
    "#### Paso 1: Evaluar para n = 0\n",
    "\n",
    "$$ Sea \\;P(x) = a , tal que \\; a \\in\\;\\Re$$  \n",
    "\n",
    "Evaluar\n",
    "\n",
    "$$ P(x_0) = a $$ \n",
    "\n",
    "Requiere 0 multiplicaciones, por lo tanto se cumple para n=0.\n",
    "\n",
    "#### Paso 2: Hipotesis de induccion\n",
    "\n",
    "$$ Sea \\;P(x) = c_nx^n + c_{n-1}x^{n-1} + ... + c_{1}x + c_0 \\;un\\; polinomio\\;de\\;grado\\;n$$\n",
    "\n",
    "El mininimo numero de multiplicaciones requeridas para evaluar P(x0) es n.\n",
    "\n",
    "#### Paso 3: Demostrar para n+1\n",
    "\n",
    "$$ Dado \\;P(x) = c_{n+1}x^{n+1} + c_nx^n + c_{n-1}x^{n-1} + ... + c_{1}x + c_0 $$\n",
    "\n",
    "Se aplica factor comun de x en P(x), resultando:\n",
    "\n",
    "$$P(x) = x(c_{n+1}x^{n} + c_{n}x^{n-1} + c_{n-1}x^{n-2} + ... + c_{1}) + c_0 $$\n",
    "\n",
    "Se observa que la expresion entre parentesis corresponde a un polinomio G(x) de grado n, es decir:\n",
    "\n",
    "$$P(x) = xG(x) + c_0 $$\n",
    "\n",
    "Se sabe por la hipotesis de induccion que el numero minimo de multiplicaciones para evaluar G(x0) es n. Por lo tanto:\n",
    "$$P(x_0) = x_0G(x_0) + c_0 $$\n",
    "\n",
    "Requiere como minimo n+1 multiplicaciones, con lo cual queda demostrada la proposicion para un polinomio de grado n+1."
   ]
  },
  {
   "cell_type": "markdown",
   "metadata": {},
   "source": [
    "## Punto 2\n",
    "\n",
    "Dado el siguiente algoritmo: \n",
    "\n",
    "    Leer n \n",
    "    Mientras n>0 repita\n",
    "        d <- mod(n,2)\n",
    "        n <- fix(n/2)\n",
    "        Mostrar d\n",
    "    fin\n",
    "\n",
    "A continuación se muestra el algoritmo implementado en R."
   ]
  },
  {
   "cell_type": "code",
   "execution_count": 5,
   "metadata": {},
   "outputs": [],
   "source": [
    "algoritmo <- function(n){\n",
    "\n",
    "iteraciones <-0\n",
    "vec <- n\n",
    "d<-0\n",
    "\n",
    "while(n > 0){\n",
    "  \n",
    "  d<- n %% 2\n",
    "  n<-floor(n/2)\n",
    "  \n",
    "  iteraciones <- iteraciones + 1\n",
    "  vec <- c(vec,n)\n",
    "}\n",
    "\n",
    "vec <<- vec\n",
    "iteraciones <<- iteraciones\n",
    "\n",
    "return (cat(\"Iteraciones: \",iteraciones))  \n",
    "}"
   ]
  },
  {
   "cell_type": "markdown",
   "metadata": {},
   "source": [
    "### 2.a) Recorra el algoritmo con n = 73\n",
    "\n",
    "A continuación se ejecuta el algoritmo y se muestra el valor que toma n en cada iteración."
   ]
  },
  {
   "cell_type": "code",
   "execution_count": 6,
   "metadata": {},
   "outputs": [
    {
     "name": "stdout",
     "output_type": "stream",
     "text": [
      "Iteraciones:  7"
     ]
    },
    {
     "data": {
      "text/html": [
       "<table>\n",
       "<thead><tr><th scope=col>Iteracion</th><th scope=col>Valor</th></tr></thead>\n",
       "<tbody>\n",
       "\t<tr><td>0 </td><td>73</td></tr>\n",
       "\t<tr><td>1 </td><td>36</td></tr>\n",
       "\t<tr><td>2 </td><td>18</td></tr>\n",
       "\t<tr><td>3 </td><td> 9</td></tr>\n",
       "\t<tr><td>4 </td><td> 4</td></tr>\n",
       "\t<tr><td>5 </td><td> 2</td></tr>\n",
       "\t<tr><td>6 </td><td> 1</td></tr>\n",
       "\t<tr><td>7 </td><td> 0</td></tr>\n",
       "</tbody>\n",
       "</table>\n"
      ],
      "text/latex": [
       "\\begin{tabular}{r|ll}\n",
       " Iteracion & Valor\\\\\n",
       "\\hline\n",
       "\t 0  & 73\\\\\n",
       "\t 1  & 36\\\\\n",
       "\t 2  & 18\\\\\n",
       "\t 3  &  9\\\\\n",
       "\t 4  &  4\\\\\n",
       "\t 5  &  2\\\\\n",
       "\t 6  &  1\\\\\n",
       "\t 7  &  0\\\\\n",
       "\\end{tabular}\n"
      ],
      "text/markdown": [
       "\n",
       "Iteracion | Valor | \n",
       "|---|---|---|---|---|---|---|---|\n",
       "| 0  | 73 | \n",
       "| 1  | 36 | \n",
       "| 2  | 18 | \n",
       "| 3  |  9 | \n",
       "| 4  |  4 | \n",
       "| 5  |  2 | \n",
       "| 6  |  1 | \n",
       "| 7  |  0 | \n",
       "\n",
       "\n"
      ],
      "text/plain": [
       "  Iteracion Valor\n",
       "1 0         73   \n",
       "2 1         36   \n",
       "3 2         18   \n",
       "4 3          9   \n",
       "5 4          4   \n",
       "6 5          2   \n",
       "7 6          1   \n",
       "8 7          0   "
      ]
     },
     "metadata": {},
     "output_type": "display_data"
    }
   ],
   "source": [
    "algoritmo(73)\n",
    "\n",
    "tabla <- data.frame(cbind(Iteracion=0:iteraciones,Valor=vec))\n",
    "tabla"
   ]
  },
  {
   "cell_type": "markdown",
   "metadata": {},
   "source": [
    "### 2.b) Obtener T(n) y expresarlo en notación O(n)\n",
    "\n",
    "En donde T(n) corresponde a la cantidad de operaciones aritméticas de división que se realizan para resolver un problema de tamaño n.\n",
    "\n",
    "#### Solución deductiva\n",
    "\n",
    "Sea k el numero de veces que n puede ser dividido en 2 hasta llegar a 1, se obtiene la expresión. \n",
    "$$ \\frac{n}{2^k} = 1 $$ \n",
    "\n",
    "Despejando k se obtiene:\n",
    "$$ n = 2^k $$\n",
    "\n",
    "$$ \\log(n) = k\\log_{10}(2) $$  \n",
    "\n",
    "$$ k = \\frac{\\log_{10}(n)}{\\log_{10}(2)} $$\n",
    "\n",
    "$$ k = \\lfloor\\log_2(n)\\rfloor\\;divisiones$$\n",
    "\n",
    "Observe que el algoritmo se repite mientras que n > 0, se sabe que n puede ser divido k veces hasta llegar a 1, por lo tanto el algoritmo realiza\n",
    "\n",
    "$$T(n) = k + 1 = \\lfloor\\log_2(n)\\rfloor\\ + 1 \\;divisiones$$ \n",
    "\n",
    "Finalmente, la respuesta expresada en notación O(n) es:\n",
    "\n",
    "$$O(\\log_2(n))$$"
   ]
  },
  {
   "cell_type": "markdown",
   "metadata": {},
   "source": [
    "## Punto 3 Resolver con método de Newton\n",
    "\n",
    "### Ejemplo: \n",
    "*Una partícula se mueve en el espacio con el vector de posición **R(t) = (2cos(t),sen(t),0).** Se requiere conocer el tiempo en el que el objeto se encuentra más cerca del punto **P(2,1,0).** Utilice el método de Newton con cuatro decimales de precisión.*\n",
    "\n",
    "Para resolver el problema se desea hallar un valor t0 tal que la distancia entre R(t0) y P sea mínima, empleando la definición de distancia entre dos puntos se llega a la siguiente expresión:\n",
    "\n",
    "$$ D(t) = \\sqrt{ ( 2 - cos(t) )^2 + (1 - sin(t) )^2  } $$ \n",
    "\n",
    "Para encontrar los valores mínimos de D(t) se calcula la derivada:\n",
    "\n",
    "$$ D´(t) = \\frac{-cos(t) + 2 sin(t)}{ \\sqrt{5 - 4 cos(t) + cos^2(t) - 2 sin(t) + sin^2(t)} }$$ \n",
    "\n",
    "Finalmente para encontrar los valores de t que cumplen D´(t)=0  se emplea el método de Newton-Raphson:"
   ]
  },
  {
   "cell_type": "code",
   "execution_count": 7,
   "metadata": {},
   "outputs": [],
   "source": [
    "# Declaración de variables\n",
    "E <- 0 # error\n",
    "d <- expression( sqrt( ( 2 - 2*cos(t) )^2 + (1 - sin(t) )^2 ) ) # D(t)\n",
    "dPrima <- D(d,\"t\") # D´(t)\n",
    "dSegunda <- D(dPrima,\"t\") #D´´(t)"
   ]
  },
  {
   "cell_type": "code",
   "execution_count": 8,
   "metadata": {},
   "outputs": [],
   "source": [
    "newtonR <- function(val){\n",
    "  E <- 1\n",
    "  error <- 1e-4\n",
    "  x1<-0 \n",
    "  vec <-0\n",
    "  \n",
    "  while(error < E){\n",
    "    \n",
    "    iteraciones <- iteraciones+1  \n",
    "    x1 <- val - eval(dPrima, envir=list(t=val))/eval(dSegunda, envir=list(t=val))\n",
    "    E <- abs(x1-val)/abs(x1)\n",
    "    val <- x1\n",
    "    \n",
    "    vec<-c(vec,E) \n",
    "  }\n",
    "  \n",
    "  E <<- E\n",
    "  vec <<- vec\n",
    "  \n",
    "  return(val)\n",
    "  \n",
    "}"
   ]
  },
  {
   "cell_type": "markdown",
   "metadata": {},
   "source": [
    "##### Resultado"
   ]
  },
  {
   "cell_type": "code",
   "execution_count": 9,
   "metadata": {},
   "outputs": [
    {
     "name": "stdout",
     "output_type": "stream",
     "text": [
      "El tiempo en el cual R(t) es mas cercano al punto P(2,1,0) es  0.5872198 \n",
      "Con un error:  7.580966e-06"
     ]
    }
   ],
   "source": [
    "cat (\"El tiempo en el cual R(t) es mas cercano al punto P(2,1,0) es \" , newtonR(0.4) , \"\\nCon un error: \", E) "
   ]
  },
  {
   "cell_type": "markdown",
   "metadata": {},
   "source": [
    "## Punto 4 Encontrar intersección en coordenadas polares\n",
    "\n",
    "$$r = 2 + \\cos(3t),\\;r=2-e^2$$\n",
    "\n",
    "\n",
    "\n",
    "## Epsilon de una Máquina"
   ]
  },
  {
   "cell_type": "markdown",
   "metadata": {},
   "source": [
    "### 1. ¿Cómo se ajusta un número binario infinito en número finito de bits?\n",
    "\n",
    "Para ajustar un número binario infinito, se utiliza el método de truncamiento o el método de redondeo para representar el valor en un número finito de bits.\n",
    "\n",
    "#### Método de Truncamiento\n",
    "\n",
    "#### Método de redondeo\n",
    "\n",
    "### 2. ¿Cúal es la diferencia entre redondeo y recorte?\n",
    "\n",
    "### 3. Indique el número de punto flotante (IEEE) de precisión doble asociado a *x* para _x(0.4)_\n",
    "\n",
    "#### Paso 1: Pasar parte entera y decimal a binario\n",
    "\n",
    "$$ (0)_{10} = 0_b $$\n",
    "$$ (.4)_{10} = (1100110011001100...)_b $$\n",
    "\n",
    "#### Paso 2: Determinar mantisa, signo y característica\n",
    "\n",
    "El resultado del paso anterior se expresa en notación científica.\n",
    "\n",
    "$$ 0,1100110011001100... = (1,100110011001100..)_b \\; x \\; 10^{-1} $$\n",
    "\n",
    "En este caso el exponente es -1, por lo tanto la característica es -1 + 1023 = 1022:\n",
    "\n",
    "$$ Característica = (1022)_{10} = 1111111110_b $$\n",
    "\n",
    "La mantisa corresponde a los 52 primeros digitos después de la ',' dado que hay infinitos digitos se emplea el método de redondeo de *inserte aqui método* obteniendo:\n",
    "\n",
    "$$ Mantisa = 10011001100110011001100110011001100110011001100110\\textbf{10} $$\n",
    "Como se observa en el texto en negrilla los últimos digitos fueron redondeados hacia arriba.\n",
    "\n",
    "Finalmente el bit de signo es 0 dado que el valor es positivo.\n",
    "\n",
    "#### Paso 3: Convertir resultado a decimal\n",
    "\n",
    "El número 0.4 en el estándar 754-IEEE corresponde a:\n",
    "$$ fl(0.4) = 0\\;1111111110\\;1001100110011001100110011001100110011001100110011010_b $$\n",
    "\n",
    "En base decimal corresponde a:\n",
    "\n",
    "$$ fl(0.4) = 0.40000000000000002220446049250313080847263336181640625_{10} $$"
   ]
  },
  {
   "cell_type": "markdown",
   "metadata": {},
   "source": [
    " \n",
    "## Punto 5  Encuentre el error de redondeo para x = 0.4 de acuerdo a lo anterior"
   ]
  },
  {
   "cell_type": "code",
   "execution_count": 10,
   "metadata": {},
   "outputs": [
    {
     "data": {
      "text/html": [
       "5.55111512312578e-17"
      ],
      "text/latex": [
       "5.55111512312578e-17"
      ],
      "text/markdown": [
       "5.55111512312578e-17"
      ],
      "text/plain": [
       "[1] 5.551115e-17"
      ]
     },
     "metadata": {},
     "output_type": "display_data"
    },
    {
     "data": {
      "text/html": [
       "1.11022302462516e-16"
      ],
      "text/latex": [
       "1.11022302462516e-16"
      ],
      "text/markdown": [
       "1.11022302462516e-16"
      ],
      "text/plain": [
       "[1] 1.110223e-16"
      ]
     },
     "metadata": {},
     "output_type": "display_data"
    }
   ],
   "source": [
    "x <- 0.00000000000000002220446049250313080847263336181640625/0.4\n",
    "x\n",
    "\n",
    "Emaq <- 2^-52 / 2\n",
    "Emaq"
   ]
  },
  {
   "cell_type": "markdown",
   "metadata": {},
   "source": [
    "## Punto 6\n",
    "\n",
    "### Ejercicio 13: Encuentre una fórmula iterativa de convergencia cuadrática\n",
    "\n",
    "\n",
    "\n",
    "### Ejercicio 14: Método intuitivo para calcular raíz\n",
    "\n",
    "#### a) De manera formal escriba las condiciones necesarias para que la raíz exista, sea única y pueda ser calculada.\n",
    "\n",
    "#### b) Indique el orden de convergencia y estime el factor de convergencia del método\n",
    "\n",
    "#### c) Describa el procedimiento anterio en tnotación algorítmica, o en MATLAB o en Python"
   ]
  },
  {
   "cell_type": "code",
   "execution_count": 11,
   "metadata": {},
   "outputs": [
    {
     "ename": "ERROR",
     "evalue": "Error in parse(text = x, srcfile = src): <text>:1:5: unexpected symbol\n1: def f\n        ^\n",
     "output_type": "error",
     "traceback": [
      "Error in parse(text = x, srcfile = src): <text>:1:5: unexpected symbol\n1: def f\n        ^\nTraceback:\n"
     ]
    }
   ],
   "source": [
    "def f(x):\n",
    "    return x-5\n",
    "\n",
    "\n",
    "def metodoIntuitivo(a,b):\n",
    "    E = 1e-6\n",
    "    x = a\n",
    "    d = (b-a)/10\n",
    "    anterior = 0\n",
    "    \n",
    "    x = f(x)\n",
    "    while d < E:\n",
    "        anterior = x\n",
    "        x = f(x)\n",
    "        \n",
    "        if anterior*x < 0:\n",
    "            x = anterior\n",
    "            d = -1*(d/10)\n",
    "        x+=d\n",
    "    return (x)\n",
    "    \n",
    "print(metodoIntuitivo(0,10))  "
   ]
  }
 ],
 "metadata": {
  "kernelspec": {
   "display_name": "R",
   "language": "R",
   "name": "ir"
  },
  "language_info": {
   "codemirror_mode": "r",
   "file_extension": ".r",
   "mimetype": "text/x-r-source",
   "name": "R",
   "pygments_lexer": "r",
   "version": "3.5.1"
  }
 },
 "nbformat": 4,
 "nbformat_minor": 2
}
