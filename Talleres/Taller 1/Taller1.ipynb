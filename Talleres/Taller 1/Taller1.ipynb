{
 "cells": [
  {
   "cell_type": "markdown",
   "metadata": {},
   "source": [
    "Autor: Daniel Fernando Beltran Huertas\n",
    "\n",
    "## Punto 1\n",
    "\n",
    "Se emplea el algoritmo de Horner para resolver el ejercicio."
   ]
  },
  {
   "cell_type": "code",
   "execution_count": 109,
   "metadata": {},
   "outputs": [],
   "source": [
    "horner <- function(coef, x){\n",
    "  \n",
    "  resultado <- coef[1]\n",
    "  iteraciones <-0\n",
    "  \n",
    "  for(a in coef[2:length(coef)]){\n",
    "    \n",
    "      resultado <- x*resultado + a\n",
    "      iteraciones <- iteraciones + 2\n",
    "      \n",
    "  }\n",
    "  \n",
    "  return(cat(\"El resultado es: \", resultado, \"\\nEl numero minimo de operaciones es: \", iteraciones,\"\\nSon \",iteraciones/2,\" multiplicaciones y \",iteraciones/2, \" sumas\"))\n",
    "  \n",
    "}"
   ]
  },
  {
   "cell_type": "markdown",
   "metadata": {},
   "source": [
    "### 1.a Hallar P(x) en el valor indicado y el número mínimo de operaciones para realizarlo\n",
    "\n",
    "$$ P(x) = 2x^4 -3x^2+3x-4,x_0=-2 $$"
   ]
  },
  {
   "cell_type": "code",
   "execution_count": 110,
   "metadata": {},
   "outputs": [
    {
     "name": "stdout",
     "output_type": "stream",
     "text": [
      "El resultado es:  10 \n",
      "El numero minimo de operaciones es:  8 \n",
      "Son  4  multiplicaciones y  4  sumas"
     ]
    }
   ],
   "source": [
    "x0 <- -2\n",
    "coef <- c(2,0,-3,3,-4)\n",
    "\n",
    "horner(coef,x0)"
   ]
  },
  {
   "cell_type": "markdown",
   "metadata": {},
   "source": [
    "$$ P(x) = 7x^5 + 6x^4 - 6x^3 +3x-4,x_0=3 $$"
   ]
  },
  {
   "cell_type": "code",
   "execution_count": 111,
   "metadata": {},
   "outputs": [
    {
     "name": "stdout",
     "output_type": "stream",
     "text": [
      "El resultado es:  2030 \n",
      "El numero minimo de operaciones es:  10 \n",
      "Son  5  multiplicaciones y  5  sumas"
     ]
    }
   ],
   "source": [
    "x0 <- 3\n",
    "coef <- c(7,6,-6,0,3,-4)\n",
    "\n",
    "horner(coef,x0)"
   ]
  },
  {
   "cell_type": "markdown",
   "metadata": {},
   "source": [
    "$$ P(x) = -5x^6 + 3x^4 +2x^2 -4x,x_0=-1 $$"
   ]
  },
  {
   "cell_type": "code",
   "execution_count": 112,
   "metadata": {},
   "outputs": [
    {
     "name": "stdout",
     "output_type": "stream",
     "text": [
      "El resultado es:  4 \n",
      "El numero minimo de operaciones es:  12 \n",
      "Son  6  multiplicaciones y  6  sumas"
     ]
    }
   ],
   "source": [
    "x0 <- -1\n",
    "coef <- c(-5,0,3,0,2,-4,0)\n",
    "\n",
    "horner(coef,x0)"
   ]
  },
  {
   "cell_type": "markdown",
   "metadata": {},
   "source": [
    "### 1.b Demuestre que el numero mínimo de multiplicaciones es n siendo n el grado del polinomio\n",
    "\n",
    "Demostración por inducción: \n",
    "\n",
    "Proposicion: Dado un polinomio P(x) de grado n y un punto x0, el minimo numero de multiplicaciones para evaluar P(x0) es n. \n",
    "\n",
    "#### Paso 1: Evaluar para n = 0\n",
    "\n",
    "$$ Sea \\;P(x) = a , tal que \\; a \\in\\;\\Re$$  \n",
    "\n",
    "Evaluar\n",
    "\n",
    "$$ P(x_0) = a $$ \n",
    "\n",
    "Requiere 0 multiplicaciones, por lo tanto se cumple para n=0.\n",
    "\n",
    "#### Paso 2: Hipotesis de induccion\n",
    "\n",
    "$$ Sea \\;P(x) = c_nx^n + c_{n-1}x^{n-1} + ... + c_{1}x + c_0 \\;un\\; polinomio\\;de\\;grado\\;n$$\n",
    "\n",
    "El mininimo numero de multiplicaciones requeridas para evaluar P(x0) es n.\n",
    "\n",
    "#### Paso 3: Demostrar para n+1\n",
    "\n",
    "$$ Dado \\;P(x) = c_{n+1}x^{n+1} + c_nx^n + c_{n-1}x^{n-1} + ... + c_{1}x + c_0 $$\n",
    "\n",
    "Se aplica factor comun de x en P(x), resultando:\n",
    "\n",
    "$$P(x) = x(c_{n+1}x^{n} + c_{n}x^{n-1} + c_{n-1}x^{n-2} + ... + c_{1}) + c_0 $$\n",
    "\n",
    "Se observa que la expresion entre parentesis corresponde a un polinomio G(x) de grado n, es decir:\n",
    "\n",
    "$$P(x) = xG(x) + c_0 $$\n",
    "\n",
    "Se sabe por la hipotesis de induccion que el numero minimo de multiplicaciones para evaluar G(x0) es n. Por lo tanto:\n",
    "$$P(x_0) = x_0G(x_0) + c_0 $$\n",
    "\n",
    "Requiere como minimo n+1 multiplicaciones, con lo cual queda demostrada la proposicion para un polinomio de grado n+1."
   ]
  },
  {
   "cell_type": "markdown",
   "metadata": {},
   "source": [
    "## Punto 2\n",
    "\n",
    "Dado el siguiente algoritmo: \n",
    "\n",
    "    Leer n \n",
    "    Mientras n>0 repita\n",
    "        d <- mod(n,2)\n",
    "        n <- fix(n/2)\n",
    "        Mostrar d\n",
    "    fin\n",
    "\n",
    "A continuación se muestra el algoritmo implementado en R."
   ]
  },
  {
   "cell_type": "code",
   "execution_count": 1,
   "metadata": {},
   "outputs": [],
   "source": [
    "algoritmo <- function(n){\n",
    "\n",
    "iteraciones <-0\n",
    "vec <- n\n",
    "d<-0\n",
    "\n",
    "while(n > 0){\n",
    "  \n",
    "  d<- n %% 2\n",
    "  n<-floor(n/2)\n",
    "  \n",
    "  iteraciones <- iteraciones + 1\n",
    "  vec <- c(vec,d)\n",
    "}\n",
    "\n",
    "vec <<- vec\n",
    "iteraciones <<- iteraciones\n",
    "\n",
    "return (cat(\"Iteraciones: \",iteraciones))  \n",
    "}"
   ]
  },
  {
   "cell_type": "markdown",
   "metadata": {},
   "source": [
    "### 2.a) Recorra el algoritmo con n = 73\n",
    "\n",
    "A continuación se ejecuta el algoritmo y se muestra el valor que toma n en cada iteración."
   ]
  },
  {
   "cell_type": "code",
   "execution_count": 2,
   "metadata": {},
   "outputs": [
    {
     "name": "stdout",
     "output_type": "stream",
     "text": [
      "Iteraciones:  7"
     ]
    },
    {
     "data": {
      "text/html": [
       "<table>\n",
       "<thead><tr><th scope=col>Iteracion</th><th scope=col>Valor</th></tr></thead>\n",
       "<tbody>\n",
       "\t<tr><td>1</td><td>1</td></tr>\n",
       "\t<tr><td>2</td><td>0</td></tr>\n",
       "\t<tr><td>3</td><td>0</td></tr>\n",
       "\t<tr><td>4</td><td>1</td></tr>\n",
       "\t<tr><td>5</td><td>0</td></tr>\n",
       "\t<tr><td>6</td><td>0</td></tr>\n",
       "\t<tr><td>7</td><td>1</td></tr>\n",
       "</tbody>\n",
       "</table>\n"
      ],
      "text/latex": [
       "\\begin{tabular}{r|ll}\n",
       " Iteracion & Valor\\\\\n",
       "\\hline\n",
       "\t 1 & 1\\\\\n",
       "\t 2 & 0\\\\\n",
       "\t 3 & 0\\\\\n",
       "\t 4 & 1\\\\\n",
       "\t 5 & 0\\\\\n",
       "\t 6 & 0\\\\\n",
       "\t 7 & 1\\\\\n",
       "\\end{tabular}\n"
      ],
      "text/markdown": [
       "\n",
       "Iteracion | Valor | \n",
       "|---|---|---|---|---|---|---|\n",
       "| 1 | 1 | \n",
       "| 2 | 0 | \n",
       "| 3 | 0 | \n",
       "| 4 | 1 | \n",
       "| 5 | 0 | \n",
       "| 6 | 0 | \n",
       "| 7 | 1 | \n",
       "\n",
       "\n"
      ],
      "text/plain": [
       "  Iteracion Valor\n",
       "1 1         1    \n",
       "2 2         0    \n",
       "3 3         0    \n",
       "4 4         1    \n",
       "5 5         0    \n",
       "6 6         0    \n",
       "7 7         1    "
      ]
     },
     "metadata": {},
     "output_type": "display_data"
    }
   ],
   "source": [
    "algoritmo(73)\n",
    "\n",
    "tabla <- data.frame(cbind(Iteracion=1:iteraciones,Valor=vec[2:(iteraciones+1)]))\n",
    "tabla"
   ]
  },
  {
   "cell_type": "markdown",
   "metadata": {},
   "source": [
    "### 2.b) Obtener T(n) y expresarlo en notación O(n)\n",
    "\n",
    "En donde T(n) corresponde a la cantidad de operaciones aritméticas de división que se realizan para resolver un problema de tamaño n.\n",
    "\n",
    "#### Solución deductiva\n",
    "\n",
    "Sea k el numero de veces que n puede ser dividido en 2 hasta llegar a 1, se obtiene la expresión. \n",
    "$$ \\frac{n}{2^k} = 1 $$ \n",
    "\n",
    "Despejando k se obtiene:\n",
    "$$ n = 2^k $$\n",
    "\n",
    "$$ \\log(n) = k\\log_{10}(2) $$  \n",
    "\n",
    "$$ k = \\frac{\\log_{10}(n)}{\\log_{10}(2)} $$\n",
    "\n",
    "$$ k = \\lfloor\\log_2(n)\\rfloor\\;divisiones$$\n",
    "\n",
    "Observe que el algoritmo se repite mientras que n > 0, se sabe que n puede ser divido k veces hasta llegar a 1, por lo tanto el algoritmo realiza\n",
    "\n",
    "$$T(n) = k + 1 = \\lfloor\\log_2(n)\\rfloor\\ + 1 \\;divisiones$$ \n",
    "\n",
    "Finalmente, la respuesta expresada en notación O(n) es:\n",
    "\n",
    "$$O(\\log_2(n))$$"
   ]
  },
  {
   "cell_type": "markdown",
   "metadata": {},
   "source": [
    "## Punto 3 Resolver con método de Newton\n",
    "\n",
    "### Ejemplo: \n",
    "*Una partícula se mueve en el espacio con el vector de posición **R(t) = (2cos(t),sen(t),0).** Se requiere conocer el tiempo en el que el objeto se encuentra más cerca del punto **P(2,1,0).** Utilice el método de Newton con cuatro decimales de precisión.*\n",
    "\n",
    "Para resolver el problema se desea hallar un valor t0 tal que la distancia entre R(t0) y P sea mínima, empleando la definición de distancia entre dos puntos se llega a la siguiente expresión:\n",
    "\n",
    "$$ D(t) = \\sqrt{ ( 2 - cos(t) )^2 + (1 - sin(t) )^2  } $$ \n",
    "\n",
    "Para encontrar los valores mínimos de D(t) se calcula la derivada:\n",
    "\n",
    "$$ D´(t) = \\frac{-cos(t) + 2 sin(t)}{ \\sqrt{5 - 4 cos(t) + cos^2(t) - 2 sin(t) + sin^2(t)} }$$ \n",
    "\n",
    "Finalmente para encontrar los valores de t que cumplen D´(t)=0  se emplea el método de Newton-Raphson:"
   ]
  },
  {
   "cell_type": "code",
   "execution_count": 6,
   "metadata": {},
   "outputs": [],
   "source": [
    "# Declaración de variables\n",
    "E <- 0 # error\n",
    "d <- expression( sqrt( ( 2 - 2*cos(t) )^2 + (1 - sin(t) )^2 ) ) # D(t)\n",
    "f <- D(d,\"t\") # D´(t)\n",
    "fprima <- D(f,\"t\") #D´´(t)"
   ]
  },
  {
   "cell_type": "code",
   "execution_count": 7,
   "metadata": {},
   "outputs": [],
   "source": [
    "newtonR <- function(val){\n",
    "  E <- 1\n",
    "  error <- 1e-5\n",
    "  x1<-0 \n",
    "  vec <-0\n",
    "  i <-0\n",
    "    \n",
    "  while(error < E){\n",
    "    \n",
    "    x1 <- val - eval(f, envir=list(t=val))/eval(fprima, envir=list(t=val))\n",
    "    E <- abs(x1-val)/abs(x1)\n",
    "    val <- x1\n",
    "    \n",
    "    vec<-c(vec,E) \n",
    "    i<- i+1\n",
    "  }\n",
    "  \n",
    "  E <<- E\n",
    "  vec <<- vec\n",
    "  i<<-i\n",
    "    \n",
    "  return(val)\n",
    "  \n",
    "}"
   ]
  },
  {
   "cell_type": "markdown",
   "metadata": {},
   "source": [
    "##### Resultado"
   ]
  },
  {
   "cell_type": "code",
   "execution_count": 83,
   "metadata": {},
   "outputs": [
    {
     "name": "stdout",
     "output_type": "stream",
     "text": [
      "El tiempo en el cual R(t) es mas cercano al punto P(2,1,0) es  0.5872198 \n",
      "Con un error:  7.580966e-06"
     ]
    }
   ],
   "source": [
    "cat (\"El tiempo en el cual R(t) es mas cercano al punto P(2,1,0) es \" , newtonR(0.4) , \"\\nCon un error: \", E) "
   ]
  },
  {
   "cell_type": "markdown",
   "metadata": {},
   "source": [
    "## Punto 4 Encontrar intersección en coordenadas polares"
   ]
  },
  {
   "cell_type": "code",
   "execution_count": 8,
   "metadata": {},
   "outputs": [],
   "source": [
    "##Código para grafica polar\n",
    "\n",
    "polar <- function (theta, r, color){\n",
    "  y <- 0\n",
    "  x <- 0\n",
    "  ejex <- 1\n",
    "  \n",
    "  for (i in 1:length(r)){\n",
    "    if(is.nan(r[i])== T){\n",
    "      r[i] <- 0\n",
    "    }\n",
    "  }\n",
    "  \n",
    "  angulo <- seq(-max(theta),max(theta),by=theta[2]-theta[1])\n",
    "  y <- r*sin(theta)\n",
    "  x <- r*cos(theta)\n",
    "\n",
    "  aux <- max(r)\n",
    "  # Dibuja los ejes.\n",
    "  while (aux > 0){\n",
    "    fi <- aux*sin(angulo)\n",
    "    cir <- aux*cos(angulo)\n",
    "    points(cir,fi,pch=\"-\",col=\"gray\",cex=0.3)\n",
    "    text(ejex+0.2,-0.2,ejex,col=\"gray\")\n",
    "    ejex <- ejex + 1\n",
    "    aux <- aux - 1\n",
    "  }\n",
    "  \n",
    "  abline(v=((max(cir)+min(cir))/2),col=\"gray\")\n",
    "  abline(h=((max(cir)+min(cir))/2),col=\"gray\")\n",
    "  segments(-max(r)+0.5,-max(r)+0.5,max(r)-0.5,max(r)-0.5,col=\"gray\")\n",
    "  segments(-max(r)+0.5,max(r)-0.5,max(r)-0.5,-max(r)+0.5,col=\"gray\")\n",
    "  \n",
    "  points(x,y,pch=20,col=color,cex=1)\n",
    "  \n",
    "}\n",
    "\n",
    "graficarPuntoPolar <- function(angulo){\n",
    "    r <- 2 + cos(3*angulo)\n",
    "    y <- r*sin(angulo)\n",
    "    x <- r*cos(angulo)\n",
    "    points(x,y,pch=20,col=10,cex=1)\n",
    "}"
   ]
  },
  {
   "cell_type": "markdown",
   "metadata": {},
   "source": [
    "Para encontrar la interseccion de: \n",
    "$$r = 2 + \\cos(3t),\\;r=2-e^t$$\n",
    "Se restan las dos ecuaciones, obteniendo:\n",
    "$$ \\cos(3t) + e^t = 0 $$ \n",
    "\n",
    "Para encontrar la solucion de la ecuacion se utiliza el metodo de Newton y el de Biseccion."
   ]
  },
  {
   "cell_type": "code",
   "execution_count": 3,
   "metadata": {},
   "outputs": [
    {
     "data": {
      "image/png": "[encoded data removed]",
      "text/plain": [
       "plot without title"
      ]
     },
     "metadata": {},
     "output_type": "display_data"
    }
   ],
   "source": [
    "dim <- seq(-pi, pi, by=pi/300) \n",
    "r=cos(3*dim) + exp(dim)\n",
    "plot.new()\n",
    "plot.window(xlim = c(-3, 3), ylim = c(-3, 3), asp = 1)\n",
    "\n",
    "polar(dim,r,\"blue\")"
   ]
  },
  {
   "cell_type": "markdown",
   "metadata": {},
   "source": [
    "### 4.a Metodo de Newton\n",
    "\n",
    "Se utiliza el codigo del punto anterior con:\n",
    "\n",
    "$$ f(t) =  \\cos(3t) + e^t $$\n",
    "\n",
    "$$ f'(t) =  -3\\sin(3t) - e^t $$"
   ]
  },
  {
   "cell_type": "code",
   "execution_count": 7,
   "metadata": {},
   "outputs": [
    {
     "name": "stdout",
     "output_type": "stream",
     "text": [
      "La solución por el método de Newton-Raphson es:  -0.6973291  i=  6 \n",
      "Con error de E=  1.021408e-09"
     ]
    },
    {
     "data": {
      "image/png": "[encoded data removed]",
      "text/plain": [
       "plot without title"
      ]
     },
     "metadata": {},
     "output_type": "display_data"
    }
   ],
   "source": [
    "f <- expression( cos(3*t) + exp(t) ) #f(t)\n",
    "fprima <- D(f,\"t\") #f'(t)\n",
    "sol1 <- newtonR(0)\n",
    "cat(\"La solución por el método de Newton-Raphson es: \",sol1,\" i= \", i, \"\\nCon error de E= \",E)\n",
    "\n",
    "plot.new()\n",
    "plot.window(xlim = c(-3, 3), ylim = c(-3, 3), asp = 1)\n",
    "\n",
    "dim <- seq(-pi, pi, by=pi/300) \n",
    "r=2+cos(3*dim)\n",
    "polar(dim,r,\"green\")\n",
    "\n",
    "r=2-exp(dim)\n",
    "polar(dim,r,\"blue\")\n",
    "\n",
    "graficarPuntoPolar(sol1)"
   ]
  },
  {
   "cell_type": "markdown",
   "metadata": {},
   "source": [
    "### 4.b Metodo de Biseccion\n",
    "\n",
    "El codigo del metodo de biseccion es el siguiente"
   ]
  },
  {
   "cell_type": "code",
   "execution_count": 10,
   "metadata": {},
   "outputs": [],
   "source": [
    "f <- function(t){\n",
    "    return (cos(3*t) + exp(t))\n",
    "}"
   ]
  },
  {
   "cell_type": "code",
   "execution_count": 13,
   "metadata": {},
   "outputs": [],
   "source": [
    "biseccion <- function(a,b){\n",
    "  E <- b-a\n",
    "  error<- 1e-5\n",
    "  x<-0\n",
    "  iteraciones<-0\n",
    "  vec <-0\n",
    "  \n",
    "  while (error < E){\n",
    "    x<- (a+b)/2\n",
    "\n",
    "    if(f(x)*f(a) < 0 )\n",
    "\n",
    "      b = x\n",
    "\n",
    "    if(f(x)*f(b) < 0)\n",
    "      a = x\n",
    "      \n",
    "    E <- (b-a)/2\n",
    "    vec<-c(vec,E)\n",
    "    iteraciones<-iteraciones+1\n",
    "  }\n",
    "  vec<<-vec\n",
    "  iteraciones <<- iteraciones\n",
    "  E <<- E\n",
    "\n",
    "  return(x)\n",
    "}"
   ]
  },
  {
   "cell_type": "code",
   "execution_count": 14,
   "metadata": {},
   "outputs": [
    {
     "name": "stdout",
     "output_type": "stream",
     "text": [
      "La solución por el método de bisección es:  -1.495428  i=  17 \n",
      "Con error de E=  5.992112e-06"
     ]
    },
    {
     "data": {
      "image/png": "[encoded data removed]",
      "text/plain": [
       "plot without title"
      ]
     },
     "metadata": {},
     "output_type": "display_data"
    }
   ],
   "source": [
    "sol2 <- biseccion(-pi/2,0)\n",
    "cat(\"La solución por el método de bisección es: \",sol2,\" i= \", iteraciones, \"\\nCon error de E= \",E)\n",
    "\n",
    "plot.new()\n",
    "plot.window(xlim = c(-3, 3), ylim = c(-3, 3), asp = 1)\n",
    "\n",
    "dim <- seq(-pi, pi, by=pi/300) \n",
    "r=2+cos(3*dim)\n",
    "polar(dim,r,\"green\")\n",
    "\n",
    "r=2-exp(dim)\n",
    "polar(dim,r,\"blue\")\n",
    "\n",
    "graficarPuntoPolar(sol2)"
   ]
  },
  {
   "cell_type": "markdown",
   "metadata": {},
   "source": [
    "Conclusion: Tal y como se esperaba el metodo de Newton Raphson ofrece una mayor precision en un menor numero de iteraciones con respecto al metodo de biseccion. No obstante, para esta funcion periodica se presenta el inconveniente de que encontrar una sola solucion requiere que el valor inicial de x sea bastante cercano a la solucion real, de lo contrario no se obtiene el valor deseado."
   ]
  },
  {
   "cell_type": "markdown",
   "metadata": {},
   "source": [
    "## Epsilon de una Máquina\n",
    "\n",
    "### 1. ¿Cómo se ajusta un número binario infinito en número finito de bits?\n",
    "\n",
    "Para ajustar un número binario infinito, se utiliza el método de truncamiento o el método de redondeo para representar el valor en un número finito de bits. Mediante estas técnicas se pretende representar un valor infinito en una aproximación finita de bits.\n",
    "\n",
    "### 2. ¿Cúal es la diferencia entre redondeo y recorte?\n",
    "\n",
    "En el metodo de truncamiento se eliminan los bits que van después de una posición determinada. Mientras que en el método de redondeo, se aproxima hacia arriba o hacia abajo el bit en una posición determinada en función del bit siguiente. Es decir si el último bit eliminado es 1 entonces se aproxima hacia arriba, en caso contrario se aproxima hacia abajo. \n",
    "\n",
    "### 3. Indique el número de punto flotante (IEEE) de precisión doble asociado a *x* para _x(0.4)_\n",
    "\n",
    "#### Paso 1: Pasar parte entera y decimal a binario\n",
    "\n",
    "$$ (0)_{10} = 0_b $$\n",
    "$$ (.4)_{10} = (1100110011001100...)_b $$\n",
    "\n",
    "#### Paso 2: Determinar mantisa, signo y característica\n",
    "\n",
    "El resultado del paso anterior se expresa en notación científica.\n",
    "\n",
    "$$ 0,1100110011001100... = (1,100110011001100..)_b \\; x \\; 10^{-1} $$\n",
    "\n",
    "En este caso el exponente es -1, por lo tanto la característica es -1 + 1023 = 1022:\n",
    "\n",
    "$$ Característica = (1022)_{10} = 1111111110_b $$\n",
    "\n",
    "La mantisa corresponde a los 52 primeros digitos después de la ',' dado que hay infinitos digitos se emplea el método de redondeo de *inserte aqui método* obteniendo:\n",
    "\n",
    "$$ Mantisa = 10011001100110011001100110011001100110011001100110\\textbf{10} $$\n",
    "Como se observa en el texto en negrilla los últimos digitos fueron redondeados hacia arriba.\n",
    "\n",
    "Finalmente el bit de signo es 0 dado que el valor es positivo.\n",
    "\n",
    "#### Paso 3: Convertir resultado a decimal\n",
    "\n",
    "El número 0.4 en el estándar 754-IEEE corresponde a:\n",
    "$$ fl(0.4) = 0\\;1111111110\\;1001100110011001100110011001100110011001100110011010_b $$\n",
    "\n",
    "En base decimal corresponde a:\n",
    "\n",
    "$$ fl(0.4) = 0.40000000000000002220446049250313080847263336181640625_{10} $$"
   ]
  },
  {
   "cell_type": "markdown",
   "metadata": {},
   "source": [
    " \n",
    "## Punto 5  Encuentre el error de redondeo para x = 0.4 de acuerdo a lo anterior\n",
    "\n",
    "El error relativo corresponde a :\n",
    "$$ e = \\frac{|fl(0.4) - 0.4|}{|0.4|} = 5.551115\\;x\\;10^{-17} $$\n",
    "\n",
    "El cual es menor que la mitad del error de maquina: \n",
    "$$ e_{maq} = \\frac{1}{2}2^{-52} = 1.110223\\;x\\;10^{-16} $$"
   ]
  },
  {
   "cell_type": "markdown",
   "metadata": {},
   "source": [
    "## Punto 6\n",
    "\n",
    "### Ejercicio 13: Encuentre una fórmula iterativa de convergencia cuadrática\n",
    "\n",
    "El algoritmo babilónico es un método iterativo para encontrar la raíz de un numéro real con una convergencia cuadrática. Parte del hecho de que la longitud de cada lado de un cuadrado corresponde a la raíz del área del cuadrado. Encontrar la raíz n-ésima consiste en:\n",
    "\n",
    "    x: Valor inicial \n",
    "    a: Valor anterior\n",
    "    r: Aproximación de raíz\n",
    "    n: numero de iteraciones \n",
    "    \n",
    "        r <- x\n",
    "        a <- 0\n",
    "        Mientras n > 0 hacer\n",
    "            a <- r\n",
    "            r <- 1/2*( x/r + r )\n",
    "            n <- n-1\n",
    "        \n",
    "        Mostrar r\n",
    "        \n",
    "El intervalo de convergencia del algoritmo babilonico son todos los números reales positivos.\n",
    "    \n",
    "### Ejercicio 14: Método intuitivo para calcular raíz\n",
    "\n",
    "#### a) De manera formal escriba las condiciones necesarias para que la raíz exista, sea única y pueda ser calculada.  \n",
    "\n",
    "Para que la raíz exista en una función f(x) dentro de un intervalo cerrado [a,b] se deben cumplir las siguientes condiciones:\n",
    "- f(a)*f(b) > 0\n",
    "- f(x) debe ser continua y derivable en el intervalo \n",
    "- El teorema de Rolle especifica que para que exista mas de una solucion en un intervalo [a,b] deben existir c y d que pertenecen al intervalo [a,b] con c distinto de d, tal que f(c)=f(d)=0. Es decir, que en el intervalo [a,b] existe al menos 1 punto en donde f'(k) = 0. \n",
    "    Por lo tanto para que la solucion sea unica se debe aplicar reduccion al absurdo del teorema de Rolle, es decir, demostrar que la funcion f(x) no tiene un punto k en el intervalo [a,b] que cumpla f'(k) = 0. \n",
    "\n",
    "#### b) Factor de convergencia\n",
    "\n",
    "Como se puede observar en el punto c el error de este metodo disminuye lentamente, puesto que permanece con el mismo error durante varias iteraciones. Por lo tanto se afirma que el orden de convergencia del metodo es lineal con un factor de convergencia inferior a 1.\n",
    "\n",
    "#### c) Describa el procedimiento anterio en tnotación algorítmica, o en MATLAB o en Python"
   ]
  },
  {
   "cell_type": "code",
   "execution_count": 2,
   "metadata": {},
   "outputs": [
    {
     "name": "stdout",
     "output_type": "stream",
     "text": [
      "i = 1  x = 1.5  E=1.5\n",
      "i = 2  x = 3.0  E=1.5\n",
      "i = 3  x = 4.5  E=1.5\n",
      "i = 4  x = 6.0  E=-0.15\n",
      "i = 5  x = 5.85  E=-0.15\n",
      "i = 6  x = 5.699999999999999  E=-0.15\n",
      "i = 7  x = 5.549999999999999  E=-0.15\n",
      "i = 8  x = 5.399999999999999  E=-0.15\n",
      "i = 9  x = 5.249999999999998  E=-0.15\n",
      "i = 10  x = 5.099999999999998  E=-0.15\n",
      "i = 11  x = 4.9499999999999975  E=0.015\n",
      "i = 12  x = 4.964999999999997  E=0.015\n",
      "i = 13  x = 4.979999999999997  E=0.015\n",
      "i = 14  x = 4.9949999999999966  E=0.015\n",
      "i = 15  x = 5.009999999999996  E=-0.0015\n",
      "i = 16  x = 5.008499999999996  E=-0.0015\n",
      "i = 17  x = 5.006999999999996  E=-0.0015\n",
      "i = 18  x = 5.005499999999996  E=-0.0015\n",
      "i = 19  x = 5.003999999999996  E=-0.0015\n",
      "i = 20  x = 5.002499999999996  E=-0.0015\n",
      "i = 21  x = 5.000999999999996  E=-0.0015\n",
      "i = 22  x = 4.999499999999996  E=0.00015000000000000001\n",
      "i = 23  x = 4.9996499999999955  E=0.00015000000000000001\n",
      "i = 24  x = 4.999799999999995  E=0.00015000000000000001\n",
      "i = 25  x = 4.999949999999995  E=0.00015000000000000001\n",
      "i = 26  x = 5.000099999999994  E=-1.5000000000000002e-05\n",
      "i = 27  x = 5.000084999999994  E=-1.5000000000000002e-05\n",
      "i = 28  x = 5.000069999999994  E=-1.5000000000000002e-05\n",
      "i = 29  x = 5.0000549999999935  E=-1.5000000000000002e-05\n",
      "i = 30  x = 5.000039999999993  E=-1.5000000000000002e-05\n",
      "i = 31  x = 5.000024999999993  E=-1.5000000000000002e-05\n",
      "i = 32  x = 5.0000099999999925  E=-1.5000000000000002e-05\n",
      "i = 33  x = 4.999994999999992  E=1.5000000000000002e-06\n",
      "i = 34  x = 4.999996499999992  E=1.5000000000000002e-06\n",
      "i = 35  x = 4.999997999999992  E=1.5000000000000002e-06\n",
      "i = 36  x = 4.9999994999999915  E=1.5000000000000002e-06\n",
      "i = 37  x = 5.000000999999991  E=-1.5000000000000002e-07\n",
      "La solucion es:  5.000000999999991\n"
     ]
    }
   ],
   "source": [
    "MAX_ITERACIONES = 1000\n",
    "def f(x):\n",
    "  return x-5\n",
    "\n",
    "def metodoIntuitivo(a,b,e):\n",
    "    E = e\n",
    "    x = a\n",
    "    d = (b-a)/10\n",
    "    i = 0\n",
    "\n",
    "    if f(a)*f(b) > 0:\n",
    "      return None\n",
    "\n",
    "    while abs(d) > E and i < MAX_ITERACIONES:\n",
    "        x+=d\n",
    "\n",
    "        if f(x-d)*f(x) < 0:\n",
    "            d = -1*(d/10)\n",
    "        i += 1\n",
    "        print(\"i = \" + str(i) + \"  x = \" + str(x) + \"  E=\" + str(d) )\n",
    "\n",
    "    return (x)\n",
    "\n",
    "temp = 10\n",
    "e = 1e-6\n",
    "a = 0\n",
    "b = 15\n",
    "\n",
    "resultado = metodoIntuitivo(a,b,e)\n",
    "if(resultado == None):\n",
    "    print(\"No existe solucion en el intervalo\")\n",
    "else:\n",
    "    print(\"La solucion es: \", resultado)"
   ]
  }
 ],
 "metadata": {
  "kernelspec": {
   "display_name": "R",
   "language": "R",
   "name": "ir"
  },
  "language_info": {
   "codemirror_mode": "r",
   "file_extension": ".r",
   "mimetype": "text/x-r-source",
   "name": "R",
   "pygments_lexer": "r",
   "version": "3.5.1"
  }
 },
 "nbformat": 4,
 "nbformat_minor": 2
}
